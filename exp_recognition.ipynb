{
 "cells": [
  {
   "cell_type": "code",
   "execution_count": 3,
   "metadata": {
    "collapsed": false
   },
   "outputs": [
    {
     "name": "stderr",
     "output_type": "stream",
     "text": [
      "Using Theano backend.\n"
     ]
    }
   ],
   "source": [
    "import numpy as np\n",
    "import pandas as pd\n",
    "from matplotlib import pyplot as plt\n",
    "%matplotlib inline\n",
    "import keras\n",
    "\n",
    "from keras.models import Sequential \n",
    "from keras.layers import Dense, Activation, Convolution2D, Reshape, Flatten, MaxPooling2D\n",
    "from keras.utils import np_utils"
   ]
  },
  {
   "cell_type": "code",
   "execution_count": 4,
   "metadata": {
    "collapsed": false
   },
   "outputs": [
    {
     "data": {
      "text/plain": [
       "(35887, 3)"
      ]
     },
     "execution_count": 4,
     "metadata": {},
     "output_type": "execute_result"
    }
   ],
   "source": [
    "ds = pd.read_csv('fer2013.csv')\n",
    "d = ds.values\n",
    "d.shape"
   ]
  },
  {
   "cell_type": "code",
   "execution_count": 5,
   "metadata": {
    "collapsed": false
   },
   "outputs": [
    {
     "name": "stdout",
     "output_type": "stream",
     "text": [
      "[1 2 3]\n",
      "[1, 2, 3]\n"
     ]
    }
   ],
   "source": [
    "arr = np.array([1,2,3])\n",
    "b = np.array([4, 5, 6])\n",
    "\n",
    "arr = np.vstack((arr, b))\n",
    "c = np.array([7, 8 ,9])\n",
    "arr = np.vstack((arr, c))\n",
    "#print arr\n",
    "\n",
    "x = [1, 2, 3]\n",
    "y = [4, 5, 6]\n",
    "\n",
    "p = np.array(x)\n",
    "print p\n",
    "\n",
    "print x"
   ]
  },
  {
   "cell_type": "code",
   "execution_count": 6,
   "metadata": {
    "collapsed": false
   },
   "outputs": [
    {
     "name": "stdout",
     "output_type": "stream",
     "text": [
      "(35887,)\n"
     ]
    }
   ],
   "source": [
    "labels = d[:, 0]\n",
    "print labels.shape\n",
    "\n",
    "tem = d[:, 1]\n",
    "pixels = np.zeros((d.shape[0], 48*48))\n",
    "# t = d[0, 1]\n",
    "# t = t.split()\n",
    "# t = [ int(z) for z in t ]\n",
    "# data1 = np.array(t)\n",
    "# print data1\n",
    "\n",
    "# for ix in range(1, d.shape[0]):\n",
    "#     tem = d[ix, 1]\n",
    "#     tem = tem.split()\n",
    "#     tem = [ int(z) for z in tem ]\n",
    "#     data = np.vstack((data, np.array(tem)))\n",
    "\n",
    "for ix in range(d.shape[0]):\n",
    "    t = tem[ix].split(' ')\n",
    "    for iy in range(d.shape[1]):\n",
    "        pixels[ix, iy] = int(t[iy])\n"
   ]
  },
  {
   "cell_type": "code",
   "execution_count": 7,
   "metadata": {
    "collapsed": false
   },
   "outputs": [
    {
     "name": "stdout",
     "output_type": "stream",
     "text": [
      "(35887, 2304)\n",
      "[[  70.   80.   82.    0.    0.    0.    0.    0.    0.    0.]\n",
      " [ 151.  150.  147.    0.    0.    0.    0.    0.    0.    0.]]\n"
     ]
    }
   ],
   "source": [
    "print pixels.shape\n",
    "    \n",
    "print pixels[:2, :10]"
   ]
  },
  {
   "cell_type": "code",
   "execution_count": 8,
   "metadata": {
    "collapsed": false
   },
   "outputs": [
    {
     "name": "stdout",
     "output_type": "stream",
     "text": [
      "(35887, 7)\n"
     ]
    }
   ],
   "source": [
    "y = np_utils.to_categorical(labels)\n",
    "print y.shape"
   ]
  },
  {
   "cell_type": "code",
   "execution_count": 9,
   "metadata": {
    "collapsed": false
   },
   "outputs": [
    {
     "name": "stdout",
     "output_type": "stream",
     "text": [
      "(28709, 2304) (7178, 2304)\n",
      "(28709, 7) (7178, 7)\n"
     ]
    }
   ],
   "source": [
    "split = int(0.80*pixels.shape[0])\n",
    "\n",
    "x_train = pixels[:split]\n",
    "y_train = y[:split]\n",
    "\n",
    "x_test = pixels[split:]\n",
    "y_test = y[split:]\n",
    "\n",
    "print x_train.shape, x_test.shape\n",
    "print y_train.shape, y_test.shape"
   ]
  },
  {
   "cell_type": "code",
   "execution_count": 10,
   "metadata": {
    "collapsed": false
   },
   "outputs": [
    {
     "name": "stdout",
     "output_type": "stream",
     "text": [
      "(28709, 1, 48, 48) (7178, 1, 48, 48)\n",
      "(28709, 7) (7178, 7)\n"
     ]
    }
   ],
   "source": [
    "x_train = x_train.reshape((x_train.shape[0], 1, 48, 48))\n",
    "x_test = x_test.reshape((x_test.shape[0], 1, 48, 48))\n",
    "\n",
    "print x_train.shape, x_test.shape\n",
    "print y_train.shape, y_test.shape"
   ]
  },
  {
   "cell_type": "code",
   "execution_count": 22,
   "metadata": {
    "collapsed": false
   },
   "outputs": [
    {
     "name": "stdout",
     "output_type": "stream",
     "text": [
      "____________________________________________________________________________________________________\n",
      "Layer (type)                     Output Shape          Param #     Connected to                     \n",
      "====================================================================================================\n",
      "convolution2d_20 (Convolution2D) (None, 16, 46, 46)    160         convolution2d_input_5[0][0]      \n",
      "____________________________________________________________________________________________________\n",
      "activation_24 (Activation)       (None, 16, 46, 46)    0           convolution2d_20[0][0]           \n",
      "____________________________________________________________________________________________________\n",
      "convolution2d_21 (Convolution2D) (None, 8, 44, 44)     1160        activation_24[0][0]              \n",
      "____________________________________________________________________________________________________\n",
      "activation_25 (Activation)       (None, 8, 44, 44)     0           convolution2d_21[0][0]           \n",
      "____________________________________________________________________________________________________\n",
      "maxpooling2d_5 (MaxPooling2D)    (None, 8, 22, 22)     0           activation_25[0][0]              \n",
      "____________________________________________________________________________________________________\n",
      "convolution2d_22 (Convolution2D) (None, 4, 20, 20)     292         maxpooling2d_5[0][0]             \n",
      "____________________________________________________________________________________________________\n",
      "activation_26 (Activation)       (None, 4, 20, 20)     0           convolution2d_22[0][0]           \n",
      "____________________________________________________________________________________________________\n",
      "flatten_5 (Flatten)              (None, 1600)          0           activation_26[0][0]              \n",
      "____________________________________________________________________________________________________\n",
      "dense_5 (Dense)                  (None, 7)             11207       flatten_5[0][0]                  \n",
      "____________________________________________________________________________________________________\n",
      "activation_27 (Activation)       (None, 7)             0           dense_5[0][0]                    \n",
      "====================================================================================================\n",
      "Total params: 12819\n",
      "____________________________________________________________________________________________________\n"
     ]
    }
   ],
   "source": [
    "conv_model = Sequential()\n",
    "\n",
    "conv_model.add(Convolution2D(16, 3, 3, input_shape=(1, 48, 48)))\n",
    "conv_model.add(Activation('relu'))\n",
    "conv_model.add(Convolution2D(8, 3, 3))\n",
    "conv_model.add(Activation('relu'))\n",
    "\n",
    "conv_model.add(MaxPooling2D(pool_size=(2, 2)))\n",
    "conv_model.add(Convolution2D(4, 3, 3))\n",
    "conv_model.add(Activation('relu'))\n",
    "\n",
    "conv_model.add(Flatten())\n",
    "\n",
    "conv_model.add(Dense(7))\n",
    "conv_model.add(Activation('softmax'))\n",
    "\n",
    "conv_model.summary()\n",
    "conv_model.compile(loss='categorical_crossentropy', optimizer='adam',\n",
    "                  metrics=['accuracy'])"
   ]
  },
  {
   "cell_type": "code",
   "execution_count": 23,
   "metadata": {
    "collapsed": false
   },
   "outputs": [
    {
     "name": "stdout",
     "output_type": "stream",
     "text": [
      "Train on 28709 samples, validate on 7178 samples\n",
      "Epoch 1/5\n",
      "28709/28709 [==============================] - 95s - loss: 1.8765 - acc: 0.2153 - val_loss: 1.8174 - val_acc: 0.2471\n",
      "Epoch 2/5\n",
      "28709/28709 [==============================] - 95s - loss: 1.8107 - acc: 0.2513 - val_loss: 1.8104 - val_acc: 0.2471\n",
      "Epoch 3/5\n",
      "28709/28709 [==============================] - 111s - loss: 1.8059 - acc: 0.2513 - val_loss: 1.8083 - val_acc: 0.2471\n",
      "Epoch 4/5\n",
      "28709/28709 [==============================] - 89s - loss: 1.8047 - acc: 0.2521 - val_loss: 1.8054 - val_acc: 0.2471\n",
      "Epoch 5/5\n",
      "28709/28709 [==============================] - 93s - loss: 1.7994 - acc: 0.2514 - val_loss: 1.8016 - val_acc: 0.2471\n"
     ]
    }
   ],
   "source": [
    "hist = conv_model.fit(x_train, y_train,\n",
    "                     nb_epoch=5,\n",
    "                     shuffle=True,\n",
    "                      batch_size=1024,\n",
    "                     validation_data=(x_test, y_test))"
   ]
  }
 ],
 "metadata": {
  "kernelspec": {
   "display_name": "Python 2",
   "language": "python",
   "name": "python2"
  },
  "language_info": {
   "codemirror_mode": {
    "name": "ipython",
    "version": 2
   },
   "file_extension": ".py",
   "mimetype": "text/x-python",
   "name": "python",
   "nbconvert_exporter": "python",
   "pygments_lexer": "ipython2",
   "version": "2.7.12"
  }
 },
 "nbformat": 4,
 "nbformat_minor": 2
}

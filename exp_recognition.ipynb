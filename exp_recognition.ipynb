{
 "cells": [
  {
   "cell_type": "code",
   "execution_count": 119,
   "metadata": {
    "collapsed": false
   },
   "outputs": [],
   "source": [
    "import numpy as np\n",
    "import pandas as pd\n",
    "from matplotlib import pyplot as plt\n",
    "%matplotlib inline\n",
    "import keras\n",
    "\n",
    "from keras.models import Sequential \n",
    "from keras.layers import Dense, Activation, Convolution2D, Reshape, Flatten, MaxPooling2D, Dropout\n",
    "from keras.utils import np_utils"
   ]
  },
  {
   "cell_type": "code",
   "execution_count": 120,
   "metadata": {
    "collapsed": false
   },
   "outputs": [
    {
     "data": {
      "text/plain": [
       "(35887, 3)"
      ]
     },
     "execution_count": 120,
     "metadata": {},
     "output_type": "execute_result"
    }
   ],
   "source": [
    "ds = pd.read_csv('fer2013.csv')\n",
    "d = ds.values\n",
    "d.shape"
   ]
  },
  {
   "cell_type": "code",
   "execution_count": 121,
   "metadata": {
    "collapsed": false
   },
   "outputs": [
    {
     "name": "stdout",
     "output_type": "stream",
     "text": [
      "[1 2 3]\n",
      "[1, 2, 3]\n"
     ]
    }
   ],
   "source": [
    "arr = np.array([1,2,3])\n",
    "b = np.array([4, 5, 6])\n",
    "\n",
    "arr = np.vstack((arr, b))\n",
    "c = np.array([7, 8 ,9])\n",
    "arr = np.vstack((arr, c))\n",
    "#print arr\n",
    "\n",
    "x = [1, 2, 3]\n",
    "y = [4, 5, 6]\n",
    "\n",
    "p = np.array(x)\n",
    "print p\n",
    "\n",
    "print x"
   ]
  },
  {
   "cell_type": "code",
   "execution_count": 125,
   "metadata": {
    "collapsed": false
   },
   "outputs": [
    {
     "name": "stdout",
     "output_type": "stream",
     "text": [
      "(35887,)\n"
     ]
    }
   ],
   "source": [
    "labels = d[:, 0]\n",
    "print labels.shape\n",
    "\n",
    "tem = d[:, 1]\n",
    "pixels = np.zeros((d.shape[0], 48*48))\n",
    "# t = d[0, 1]\n",
    "# t = t.split()\n",
    "# t = [ int(z) for z in t ]\n",
    "# data1 = np.array(t)\n",
    "# print data1\n",
    "\n",
    "# for ix in range(1, d.shape[0]):\n",
    "#     tem = d[ix, 1]\n",
    "#     tem = tem.split()\n",
    "#     tem = [ int(z) for z in tem ]\n",
    "#     data = np.vstack((data, np.array(tem)))\n",
    "\n",
    "for ix in range(pixels.shape[0]):\n",
    "    t = tem[ix].split(' ')\n",
    "    for iy in range(pixels.shape[1]):\n",
    "        pixels[ix, iy] = int(t[iy])\n"
   ]
  },
  {
   "cell_type": "code",
   "execution_count": 126,
   "metadata": {
    "collapsed": false
   },
   "outputs": [
    {
     "name": "stdout",
     "output_type": "stream",
     "text": [
      "(35887, 2304)\n",
      "[[  70.   80.   82.   72.   58.   58.   60.   63.   54.   58.]\n",
      " [ 151.  150.  147.  155.  148.  133.  111.  140.  170.  174.]]\n",
      "[[-0.60646962 -0.4562069  -0.4011047  -0.50456157 -0.67067463 -0.66569461\n",
      "  -0.6410465  -0.60871772 -0.75621507 -0.73092633]\n",
      " [ 0.37587539  0.40796695  0.41422283  0.55721626  0.50643161  0.33794788\n",
      "   0.05679587  0.46676644  0.89310809  0.94130151]]\n"
     ]
    }
   ],
   "source": [
    "print pixels.shape\n",
    "    \n",
    "print pixels[:2, :10]\n",
    "\n",
    "#normalize #data preprocessing\n",
    "pixels -= np.mean(pixels, axis=0)\n",
    "pixels /= np.std(pixels, axis=0)\n",
    "\n",
    "print pixels[:2, :10]"
   ]
  },
  {
   "cell_type": "code",
   "execution_count": 127,
   "metadata": {
    "collapsed": false
   },
   "outputs": [
    {
     "name": "stdout",
     "output_type": "stream",
     "text": [
      "(35887, 7)\n"
     ]
    }
   ],
   "source": [
    "y = np_utils.to_categorical(labels)\n",
    "print y.shape"
   ]
  },
  {
   "cell_type": "code",
   "execution_count": 128,
   "metadata": {
    "collapsed": false
   },
   "outputs": [
    {
     "name": "stdout",
     "output_type": "stream",
     "text": [
      "(28709, 2304) (7178, 2304)\n",
      "(28709, 7) (7178, 7)\n"
     ]
    }
   ],
   "source": [
    "split = int(0.80*pixels.shape[0])\n",
    "\n",
    "x_train = pixels[:split]\n",
    "y_train = y[:split]\n",
    "\n",
    "x_test = pixels[split:]\n",
    "y_test = y[split:]\n",
    "\n",
    "print x_train.shape, x_test.shape\n",
    "print y_train.shape, y_test.shape"
   ]
  },
  {
   "cell_type": "code",
   "execution_count": 129,
   "metadata": {
    "collapsed": false
   },
   "outputs": [
    {
     "name": "stdout",
     "output_type": "stream",
     "text": [
      "(28709, 1, 48, 48) (7178, 1, 48, 48)\n",
      "(28709, 7) (7178, 7)\n"
     ]
    }
   ],
   "source": [
    "x_train = x_train.reshape((x_train.shape[0], 1, 48, 48))\n",
    "x_test = x_test.reshape((x_test.shape[0], 1, 48, 48))\n",
    "\n",
    "print x_train.shape, x_test.shape\n",
    "print y_train.shape, y_test.shape"
   ]
  },
  {
   "cell_type": "code",
   "execution_count": 148,
   "metadata": {
    "collapsed": false
   },
   "outputs": [
    {
     "name": "stdout",
     "output_type": "stream",
     "text": [
      "____________________________________________________________________________________________________\n",
      "Layer (type)                     Output Shape          Param #     Connected to                     \n",
      "====================================================================================================\n",
      "convolution2d_113 (Convolution2D (None, 64, 46, 46)    640         convolution2d_input_29[0][0]     \n",
      "____________________________________________________________________________________________________\n",
      "convolution2d_114 (Convolution2D (None, 64, 44, 44)    36928       convolution2d_113[0][0]          \n",
      "____________________________________________________________________________________________________\n",
      "maxpooling2d_37 (MaxPooling2D)   (None, 64, 22, 22)    0           convolution2d_114[0][0]          \n",
      "____________________________________________________________________________________________________\n",
      "convolution2d_115 (Convolution2D (None, 32, 20, 20)    18464       maxpooling2d_37[0][0]            \n",
      "____________________________________________________________________________________________________\n",
      "convolution2d_116 (Convolution2D (None, 32, 18, 18)    9248        convolution2d_115[0][0]          \n",
      "____________________________________________________________________________________________________\n",
      "maxpooling2d_38 (MaxPooling2D)   (None, 32, 9, 9)      0           convolution2d_116[0][0]          \n",
      "____________________________________________________________________________________________________\n",
      "dropout_39 (Dropout)             (None, 32, 9, 9)      0           maxpooling2d_38[0][0]            \n",
      "____________________________________________________________________________________________________\n",
      "flatten_26 (Flatten)             (None, 2592)          0           dropout_39[0][0]                 \n",
      "____________________________________________________________________________________________________\n",
      "dropout_40 (Dropout)             (None, 2592)          0           flatten_26[0][0]                 \n",
      "____________________________________________________________________________________________________\n",
      "dense_44 (Dense)                 (None, 7)             18151       dropout_40[0][0]                 \n",
      "____________________________________________________________________________________________________\n",
      "activation_77 (Activation)       (None, 7)             0           dense_44[0][0]                   \n",
      "====================================================================================================\n",
      "Total params: 83431\n",
      "____________________________________________________________________________________________________\n"
     ]
    }
   ],
   "source": [
    "conv_model = Sequential()\n",
    "\n",
    "conv_model.add(Convolution2D(64, 3, 3, input_shape=(1, 48, 48), activation='relu'))\n",
    "conv_model.add(Convolution2D(64, 3, 3, activation='relu'))\n",
    "conv_model.add(MaxPooling2D(pool_size=(2, 2)))\n",
    "\n",
    "conv_model.add(Convolution2D(32, 3, 3, activation='relu'))\n",
    "conv_model.add(Convolution2D(32, 3, 3, activation='relu'))\n",
    "conv_model.add(MaxPooling2D(pool_size=(2, 2)))\n",
    "conv_model.add(Dropout(0.5))\n",
    "\n",
    "conv_model.add(Flatten())\n",
    "model.add(Dense(128, activation='relu'))\n",
    "conv_model.add(Dropout(0.5))\n",
    "conv_model.add(Dense(7))\n",
    "conv_model.add(Activation('softmax'))\n",
    "\n",
    "conv_model.summary()\n",
    "#keras.optimizers.Adam(lr=0.0001, beta_1=0.9, beta_2=0.999, epsilon=1e-08, decay=0.0)\n",
    "conv_model.compile(loss='categorical_crossentropy', optimizer='adam',\n",
    "                  metrics=['accuracy'])"
   ]
  },
  {
   "cell_type": "code",
   "execution_count": 149,
   "metadata": {
    "collapsed": false
   },
   "outputs": [
    {
     "name": "stdout",
     "output_type": "stream",
     "text": [
      "Train on 28709 samples, validate on 7178 samples\n",
      "Epoch 1/10\n",
      "28709/28709 [==============================] - 691s - loss: 1.7505 - acc: 0.2880 - val_loss: 1.6111 - val_acc: 0.3905\n",
      "Epoch 2/10\n",
      "28709/28709 [==============================] - 697s - loss: 1.5810 - acc: 0.3837 - val_loss: 1.4802 - val_acc: 0.4441\n",
      "Epoch 3/10\n",
      "28709/28709 [==============================] - 616s - loss: 1.4693 - acc: 0.4349 - val_loss: 1.3941 - val_acc: 0.4746\n",
      "Epoch 4/10\n",
      "28709/28709 [==============================] - 1026s - loss: 1.3957 - acc: 0.4661 - val_loss: 1.3231 - val_acc: 0.4967\n",
      "Epoch 5/10\n",
      "28709/28709 [==============================] - 815s - loss: 1.3503 - acc: 0.4874 - val_loss: 1.2888 - val_acc: 0.5079\n",
      "Epoch 6/10\n",
      "28709/28709 [==============================] - 833s - loss: 1.3138 - acc: 0.4971 - val_loss: 1.2671 - val_acc: 0.5177\n",
      "Epoch 7/10\n",
      "28709/28709 [==============================] - 751s - loss: 1.2942 - acc: 0.5027 - val_loss: 1.2513 - val_acc: 0.5237\n",
      "Epoch 8/10\n",
      "28709/28709 [==============================] - 598s - loss: 1.2737 - acc: 0.5152 - val_loss: 1.2282 - val_acc: 0.5308\n",
      "Epoch 9/10\n",
      "28709/28709 [==============================] - 595s - loss: 1.2588 - acc: 0.5210 - val_loss: 1.2238 - val_acc: 0.5382\n",
      "Epoch 10/10\n",
      "28709/28709 [==============================] - 592s - loss: 1.2357 - acc: 0.5297 - val_loss: 1.2060 - val_acc: 0.5415\n"
     ]
    }
   ],
   "source": [
    "hist = conv_model.fit(x_train, y_train,\n",
    "                     nb_epoch=10,\n",
    "                     shuffle=True,\n",
    "                      batch_size=256,\n",
    "                     validation_data=(x_test, y_test))"
   ]
  },
  {
   "cell_type": "code",
   "execution_count": 164,
   "metadata": {
    "collapsed": false
   },
   "outputs": [
    {
     "data": {
      "image/png": "[encoded data removed]",
      "text/plain": [
       "<matplotlib.figure.Figure at 0x1155c3ad0>"
      ]
     },
     "metadata": {},
     "output_type": "display_data"
    }
   ],
   "source": [
    "plt.figure(figsize=(14,3))\n",
    "plt.subplot(1, 2, 1)\n",
    "plt.suptitle('Optimizer : Adam', fontsize=10)\n",
    "plt.ylabel('Loss', fontsize=16)\n",
    "plt.plot(hist.history['loss'], 'b', label='Training Loss')\n",
    "plt.plot(hist.history['val_loss'], 'r', label='Validation Loss')\n",
    "plt.legend(loc='upper right')\n",
    "\n",
    "plt.subplot(1, 2, 2)\n",
    "plt.ylabel('Accuracy', fontsize=16)\n",
    "plt.plot(hist.history['acc'], 'b', label='Training Accuracy')\n",
    "plt.plot(hist.history['val_acc'], 'r', label='Validation Accuracy')\n",
    "plt.legend(loc='lower right')\n",
    "plt.show()"
   ]
  }
 ],
 "metadata": {
  "kernelspec": {
   "display_name": "Python 2",
   "language": "python",
   "name": "python2"
  },
  "language_info": {
   "codemirror_mode": {
    "name": "ipython",
    "version": 2
   },
   "file_extension": ".py",
   "mimetype": "text/x-python",
   "name": "python",
   "nbconvert_exporter": "python",
   "pygments_lexer": "ipython2",
   "version": "2.7.12"
  }
 },
 "nbformat": 4,
 "nbformat_minor": 2
}
